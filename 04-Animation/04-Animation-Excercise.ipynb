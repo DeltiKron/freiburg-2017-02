{
 "metadata": {
  "kernelspec": {
   "language": "python",
   "name": "python3",
   "display_name": "Python 3"
  },
  "language_info": {
   "nbconvert_exporter": "python",
   "mimetype": "text/x-python",
   "pygments_lexer": "ipython3",
   "file_extension": ".py",
   "name": "python",
   "version": "3.5.2",
   "codemirror_mode": {
    "name": "ipython",
    "version": 3
   }
  }
 },
 "nbformat_minor": 0,
 "cells": [
  {
   "metadata": {
    "collapsed": true
   },
   "cell_type": "code",
   "source": [],
   "execution_count": null,
   "outputs": []
  },
  {
   "metadata": {
    "ein.tags": [
     "worksheet-0"
    ]
   },
   "cell_type": "markdown",
   "source": [
    "# Bringing it all Together - Animations in Matplotlib"
   ]
  },
  {
   "metadata": {
    "ein.tags": [
     "worksheet-0"
    ]
   },
   "cell_type": "markdown",
   "source": [
    "In this final exercise we are going to make use of all the skills you have developed in Python today, and approximate pi with a nice matplotlib animation.\n",
    "\n",
    "In this example we are going to approximate pi by calculating the difference in the area of a unit square and a unit circle. We shall do this by randomly picking a point inside the unit square and determining if that point is inside the unit circle contained within the square. The ratio of points inside both the square and the circle to the ratio of points only in the square will allow us to approximate pi.\n",
    "\n",
    "First we will introduce you to the matplotlib animation module."
   ]
  },
  {
   "metadata": {},
   "cell_type": "markdown",
   "source": [
    "# Challenge 1\n",
    "\n",
    "Approximate pi by the Monte Carlo method in a for loop. For each iteration of the loop you will need to generate a random x and y coordinate of your point (between 0 and 1), and then calculate if this is inside the circule of radius 1. You can then approximate $\\pi$ using the following equation:\n",
    "\n",
    "$$\n",
    "\\frac{\\pi}{4} = \\frac{\\text{number of points in circle}}{\\text{total number of points}}\n",
    "$$\n",
    "\n",
    "You will probably find [`numpy.random.rand()`](http://docs.scipy.org/doc/numpy-1.10.0/reference/generated/numpy.random.rand.html) and [`numpy.sqrt()`](http://docs.scipy.org/doc/numpy-1.10.0/reference/generated/numpy.sqrt.html) useful.\n",
    "\n",
    "Print the approximation at each step to see it getting more accurate."
   ]
  },
  {
   "metadata": {
    "collapsed": true
   },
   "cell_type": "code",
   "source": [],
   "execution_count": null,
   "outputs": []
  },
  {
   "metadata": {
    "scrolled": false,
    "collapsed": false
   },
   "cell_type": "code",
   "source": [],
   "execution_count": null,
   "outputs": []
  },
  {
   "metadata": {
    "ein.tags": [
     "worksheet-0"
    ]
   },
   "cell_type": "markdown",
   "source": [
    "## Animations"
   ]
  },
  {
   "metadata": {
    "ein.tags": [
     "worksheet-0"
    ]
   },
   "cell_type": "markdown",
   "source": [
    "Matplotlib supports animation of all of its figure types. We will show you an example here.\n",
    "\n",
    "First things first, we need to import Animation."
   ]
  },
  {
   "metadata": {
    "ein.tags": [
     "worksheet-0"
    ],
    "collapsed": false,
    "autoscroll": "json-false"
   },
   "cell_type": "code",
   "source": [],
   "execution_count": null,
   "outputs": []
  },
  {
   "metadata": {
    "ein.tags": [
     "worksheet-0"
    ]
   },
   "cell_type": "markdown",
   "source": [
    "So animation plotting is based off creating a function. So in this case, we are animating a line plot."
   ]
  },
  {
   "metadata": {
    "ein.tags": [
     "worksheet-0"
    ],
    "collapsed": false,
    "autoscroll": "json-false"
   },
   "cell_type": "code",
   "source": [],
   "execution_count": null,
   "outputs": []
  },
  {
   "metadata": {
    "ein.tags": [
     "worksheet-0"
    ],
    "collapsed": false,
    "autoscroll": "json-false"
   },
   "cell_type": "code",
   "source": [],
   "execution_count": null,
   "outputs": []
  },
  {
   "metadata": {
    "collapsed": false
   },
   "cell_type": "code",
   "source": [],
   "execution_count": null,
   "outputs": []
  },
  {
   "metadata": {
    "collapsed": true
   },
   "cell_type": "code",
   "source": [],
   "execution_count": null,
   "outputs": []
  },
  {
   "metadata": {
    "ein.tags": [
     "worksheet-0"
    ]
   },
   "cell_type": "markdown",
   "source": [
    "This works! Animating a 2D image is similar. Except in the animate function, you will set both x and y data."
   ]
  },
  {
   "metadata": {},
   "cell_type": "markdown",
   "source": [
    "# Challenge 2\n",
    "\n",
    "Modify your $\\pi$ calculation to animate as it calculates pi. \n",
    "\n",
    "You can plot the circle of the line using the equation:\n",
    "$$\n",
    "x^2 + y^2 = 1\n",
    "$$\n",
    "\n",
    "Set the title of your plot to be the running approximation of $\\pi$."
   ]
  },
  {
   "metadata": {
    "ein.tags": [
     "worksheet-0"
    ],
    "collapsed": false,
    "autoscroll": "json-false"
   },
   "cell_type": "code",
   "source": [],
   "execution_count": null,
   "outputs": []
  },
  {
   "metadata": {
    "collapsed": false
   },
   "cell_type": "code",
   "source": [],
   "execution_count": null,
   "outputs": []
  },
  {
   "metadata": {
    "ein.tags": [
     "worksheet-0"
    ],
    "collapsed": false,
    "autoscroll": "json-false"
   },
   "cell_type": "code",
   "source": [],
   "execution_count": null,
   "outputs": []
  },
  {
   "metadata": {
    "ein.tags": [
     "worksheet-0"
    ],
    "collapsed": false,
    "autoscroll": "json-false"
   },
   "cell_type": "code",
   "source": [],
   "execution_count": null,
   "outputs": []
  },
  {
   "metadata": {
    "ein.tags": [
     "worksheet-0"
    ]
   },
   "cell_type": "markdown",
   "source": [
    "There is a further IPython Notebook talking about this in more detail."
   ]
  }
 ],
 "nbformat": 4
}