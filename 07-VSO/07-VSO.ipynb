{
 "nbformat": 4,
 "metadata": {
  "language_info": {
   "version": "3.5.2",
   "file_extension": ".py",
   "codemirror_mode": {
    "version": 3,
    "name": "ipython"
   },
   "mimetype": "text/x-python",
   "nbconvert_exporter": "python",
   "pygments_lexer": "ipython3",
   "name": "python"
  },
  "kernelspec": {
   "display_name": "Python 3",
   "name": "python3",
   "language": "python"
  }
 },
 "nbformat_minor": 0,
 "cells": [
  {
   "cell_type": "markdown",
   "source": [
    "# Downloading Data with VSO"
   ],
   "metadata": {
    "collapsed": true
   }
  },
  {
   "cell_type": "markdown",
   "source": [
    "In this session we will be using the Virtual Solar Observatory (VSO) cilent in SunPy to download some EUV data. The VSO has access to a wide variety of different instruments and data sources, and the SunPy client allows you to create arbitarily complex queries to search and then download the data."
   ],
   "metadata": {}
  },
  {
   "cell_type": "markdown",
   "source": [
    "## Useful Links\n",
    "\n",
    "1. [Acquiring Data with SunPy](http://docs.sunpy.org/en/stable/guide/acquiring_data/index.html)\n",
    "1. [The VSO](http://virtualsolar.org/)\n",
    "1. [MapCube Documentation](http://docs.sunpy.org/en/stable/guide/data_types/maps.html#mapcubes)"
   ],
   "metadata": {}
  },
  {
   "cell_type": "markdown",
   "source": [
    "## The VSO Module"
   ],
   "metadata": {}
  },
  {
   "cell_type": "markdown",
   "source": [
    "SunPy's VSO submodule comes in two important parts, the `VSOClient` iteself, the thing that actually does the searching and donwloading of data and the 'attributes' which are things that allow you to build searches, they are things like `Time` or `Instrument`. We import them both: "
   ],
   "metadata": {}
  },
  {
   "outputs": [],
   "cell_type": "code",
   "source": [],
   "metadata": {
    "collapsed": false
   },
   "execution_count": null
  },
  {
   "cell_type": "markdown",
   "source": [
    "Create a VSO client:"
   ],
   "metadata": {}
  },
  {
   "outputs": [],
   "cell_type": "code",
   "source": [],
   "metadata": {
    "collapsed": true
   },
   "execution_count": null
  },
  {
   "cell_type": "markdown",
   "source": [
    "Let's do a simple search for a days worth of AIA data (don't worry it wont download it all):"
   ],
   "metadata": {}
  },
  {
   "outputs": [],
   "cell_type": "code",
   "source": [],
   "metadata": {
    "collapsed": false
   },
   "execution_count": null
  },
  {
   "outputs": [],
   "cell_type": "code",
   "source": [],
   "metadata": {
    "collapsed": false
   },
   "execution_count": null
  },
  {
   "cell_type": "markdown",
   "source": [
    "This is a little too much data, so let's restrict it to a single wavelength and ask for a lower cadence:"
   ],
   "metadata": {}
  },
  {
   "outputs": [],
   "cell_type": "code",
   "source": [],
   "metadata": {
    "collapsed": true
   },
   "execution_count": null
  },
  {
   "outputs": [],
   "cell_type": "code",
   "source": [],
   "metadata": {
    "collapsed": false
   },
   "execution_count": null
  },
  {
   "outputs": [],
   "cell_type": "code",
   "source": [],
   "metadata": {
    "collapsed": false
   },
   "execution_count": null
  },
  {
   "cell_type": "markdown",
   "source": [
    "## SunPy Mapcube"
   ],
   "metadata": {}
  },
  {
   "cell_type": "markdown",
   "source": [
    "A quick aside into plotting sequences of images with SunPy. We will load these files we just downloaded into a SunPy MapCube and animate them. (Note is a little more responsive outside of the notebook.)"
   ],
   "metadata": {}
  },
  {
   "outputs": [],
   "cell_type": "code",
   "source": [],
   "metadata": {
    "collapsed": false
   },
   "execution_count": null
  },
  {
   "outputs": [],
   "cell_type": "code",
   "source": [],
   "metadata": {
    "collapsed": false
   },
   "execution_count": null
  },
  {
   "outputs": [],
   "cell_type": "code",
   "source": [],
   "metadata": {
    "collapsed": false
   },
   "execution_count": null
  },
  {
   "cell_type": "markdown",
   "source": [
    "## More Complex Searching"
   ],
   "metadata": {}
  },
  {
   "cell_type": "markdown",
   "source": [
    "In this example we will use the logical operators to combine attributes into a complex multi-instrument query."
   ],
   "metadata": {}
  },
  {
   "cell_type": "markdown",
   "source": [
    "You can use the `&` and operator or the `|` or operator to make queries. In the previous example all arguments to `vc.query` had the and operator applied, we performed a search where the Instrument *and* the Wavelength *and* the time matched. We could have done this explicitly like this:"
   ],
   "metadata": {}
  },
  {
   "outputs": [],
   "cell_type": "code",
   "source": [],
   "metadata": {
    "collapsed": false
   },
   "execution_count": null
  },
  {
   "cell_type": "markdown",
   "source": [
    "If we want to do the same query but for two seperate wavelengths we can use the `|` or operator:"
   ],
   "metadata": {}
  },
  {
   "outputs": [],
   "cell_type": "code",
   "source": [],
   "metadata": {
    "collapsed": true
   },
   "execution_count": null
  },
  {
   "outputs": [],
   "cell_type": "code",
   "source": [],
   "metadata": {
    "collapsed": false
   },
   "execution_count": null
  },
  {
   "cell_type": "markdown",
   "source": [
    "### Multiple Instruments\n",
    "\n",
    "In this example we want to download one image from STEREO A EUVI and one image from SDO AIA as close together in time as we can. To do this we will define a search for the AIA image and a search for the EUVI image then 'or' them together."
   ],
   "metadata": {}
  },
  {
   "outputs": [],
   "cell_type": "code",
   "source": [],
   "metadata": {
    "collapsed": false
   },
   "execution_count": null
  },
  {
   "outputs": [],
   "cell_type": "code",
   "source": [],
   "metadata": {
    "collapsed": false
   },
   "execution_count": null
  },
  {
   "outputs": [],
   "cell_type": "code",
   "source": [],
   "metadata": {
    "collapsed": false
   },
   "execution_count": null
  },
  {
   "outputs": [],
   "cell_type": "code",
   "source": [],
   "metadata": {
    "collapsed": false
   },
   "execution_count": null
  }
 ]
}