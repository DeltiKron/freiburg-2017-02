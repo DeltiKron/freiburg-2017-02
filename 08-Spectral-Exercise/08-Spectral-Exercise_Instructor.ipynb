{
 "cells": [
  {
   "cell_type": "markdown",
   "metadata": {},
   "source": [
    "# Inspecting spectral data"
   ]
  },
  {
   "cell_type": "markdown",
   "metadata": {},
   "source": [
    "As a final task to demonstrate that you can do real science with Python, we're going to have a look at the time series of spectral data we used earlier today."
   ]
  },
  {
   "cell_type": "markdown",
   "metadata": {},
   "source": [
    "1. Load the CRISP time series data we downloaded earlier (CRISP_TXY_Cube.fits.gz) plot the image for one timestep\n",
    "1. Choose a slice of the data array to act as a spectrograph slit and plot the location of this line on your image plot\n",
    "1. Plot the data from your chosen slit. Bonus points if you animate it to show the change of your data with time.\n",
    "1. Choose a location along the slit and Fourier transform the time series for that location. Plot the output"
   ]
  },
  {
   "cell_type": "markdown",
   "metadata": {},
   "source": [
    "You'll want to have a look at the numpy.fft module for the Fourier transorm."
   ]
  },
  {
   "cell_type": "code",
   "execution_count": null,
   "metadata": {
    "collapsed": false
   },
   "outputs": [],
   "source": [
    "import sunpy.map\n",
    "from astropy.utils.data import download_file\n",
    "\n",
    "#cube_file = download_file(\"http://data.sunpy.org/CRISP_TXY_Cube.fits.gz\", cache=True)"
   ]
  },
  {
   "cell_type": "code",
   "execution_count": null,
   "metadata": {
    "collapsed": false
   },
   "outputs": [],
   "source": [
    "cube_file"
   ]
  },
  {
   "cell_type": "code",
   "execution_count": null,
   "metadata": {
    "collapsed": true
   },
   "outputs": [],
   "source": [
    "spectralcube = sunpy.map.Map('../data/cubefile.fits.gz')"
   ]
  },
  {
   "cell_type": "code",
   "execution_count": null,
   "metadata": {
    "collapsed": false
   },
   "outputs": [],
   "source": [
    "spectralcube.data.shape"
   ]
  },
  {
   "cell_type": "code",
   "execution_count": null,
   "metadata": {
    "collapsed": false
   },
   "outputs": [],
   "source": [
    "import matplotlib.pyplot as plt\n",
    "%matplotlib notebook\n",
    "\n",
    "plt.imshow(spectralcube.data[0, ...], vmax=3000)\n",
    "plt.axhline(700, color='white')\n",
    "#plt.plot(500, 700, 'o')\n",
    "plt.show()"
   ]
  },
  {
   "cell_type": "code",
   "execution_count": null,
   "metadata": {
    "collapsed": false
   },
   "outputs": [],
   "source": [
    "# take a slit in the data\n",
    "slit = spectralcube.data[:, 700, :]\n",
    "slit.shape"
   ]
  },
  {
   "cell_type": "code",
   "execution_count": null,
   "metadata": {
    "collapsed": false
   },
   "outputs": [],
   "source": [
    "plt.plot(slit[0])\n",
    "plt.axvline(710)\n",
    "plt.show()"
   ]
  },
  {
   "cell_type": "code",
   "execution_count": null,
   "metadata": {
    "collapsed": false
   },
   "outputs": [],
   "source": [
    "plt.imshow(slit.T, aspect='auto')\n",
    "plt.axhline(710, linestyle='--', color='white')\n",
    "plt.show()"
   ]
  },
  {
   "cell_type": "code",
   "execution_count": null,
   "metadata": {
    "collapsed": false
   },
   "outputs": [],
   "source": [
    "lightcurve = slit[:, 710]\n",
    "print(lightcurve.shape)\n",
    "plt.plot(lightcurve)\n",
    "plt.show()"
   ]
  },
  {
   "cell_type": "code",
   "execution_count": null,
   "metadata": {
    "collapsed": false,
    "scrolled": false
   },
   "outputs": [],
   "source": [
    "import numpy as np\n",
    "\n",
    "print(lightcurve.shape)\n",
    "\n",
    "spectrum = np.fft.fft(lightcurve[:32])\n",
    "freq = np.fft.fftfreq(spectrum.shape[0])\n",
    "spectrum, freq = np.fft.fftshift(spectrum), np.fft.fftshift(freq)\n",
    "plt.plot(freq, spectrum)\n",
    "plt.show()"
   ]
  }
 ],
 "metadata": {
  "kernelspec": {
   "display_name": "Environment (freiburg-2017-02)",
   "language": "",
   "name": "freiburg-2017-02"
  },
  "language_info": {
   "codemirror_mode": {
    "name": "ipython",
    "version": 3
   },
   "file_extension": ".py",
   "mimetype": "text/x-python",
   "name": "python",
   "nbconvert_exporter": "python",
   "pygments_lexer": "ipython3",
   "version": "3.5.3"
  }
 },
 "nbformat": 4,
 "nbformat_minor": 0
}
