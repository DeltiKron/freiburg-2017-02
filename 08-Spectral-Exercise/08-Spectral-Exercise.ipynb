{
 "cells": [
  {
   "cell_type": "markdown",
   "source": [
    "# Inspecting spectral data"
   ],
   "metadata": {}
  },
  {
   "cell_type": "markdown",
   "source": [
    "As a final task to demonstrate that you can do real science with Python, we're going to have a look at the time series of spectral data we used earlier today."
   ],
   "metadata": {}
  },
  {
   "cell_type": "markdown",
   "source": [
    "1. Load the CRISP time series data we downloaded earlier (CRISP_TXY_Cube.fits.gz) plot the image for one timestep\n",
    "1. Choose a slice of the data array to act as a spectrograph slit and plot the location of this line on your image plot\n",
    "1. Plot the data from your chosen slit. Bonus points if you animate it to show the change of your data with time.\n",
    "1. Choose a location along the slit and Fourier transform the time series for that location. Plot the output"
   ],
   "metadata": {}
  },
  {
   "cell_type": "markdown",
   "source": [
    "You'll want to have a look at the numpy.fft module for the Fourier transorm."
   ],
   "metadata": {}
  },
  {
   "cell_type": "code",
   "source": [
    "#cube_file = download_file(\"http://data.sunpy.org/CRISP_TXY_Cube.fits.gz\", cache=True)"
   ],
   "execution_count": null,
   "metadata": {
    "collapsed": false
   },
   "outputs": []
  },
  {
   "cell_type": "code",
   "source": [],
   "execution_count": null,
   "metadata": {
    "collapsed": false
   },
   "outputs": []
  },
  {
   "cell_type": "code",
   "source": [],
   "execution_count": null,
   "metadata": {
    "collapsed": true
   },
   "outputs": []
  },
  {
   "cell_type": "code",
   "source": [],
   "execution_count": null,
   "metadata": {
    "collapsed": false
   },
   "outputs": []
  },
  {
   "cell_type": "code",
   "source": [
    "#plt.plot(500, 700, 'o')\n"
   ],
   "execution_count": null,
   "metadata": {
    "collapsed": false
   },
   "outputs": []
  },
  {
   "cell_type": "code",
   "source": [
    "# take a slit in the data\n"
   ],
   "execution_count": null,
   "metadata": {
    "collapsed": false
   },
   "outputs": []
  },
  {
   "cell_type": "code",
   "source": [],
   "execution_count": null,
   "metadata": {
    "collapsed": false
   },
   "outputs": []
  },
  {
   "cell_type": "code",
   "source": [],
   "execution_count": null,
   "metadata": {
    "collapsed": false
   },
   "outputs": []
  },
  {
   "cell_type": "code",
   "source": [],
   "execution_count": null,
   "metadata": {
    "collapsed": false
   },
   "outputs": []
  },
  {
   "cell_type": "code",
   "source": [],
   "execution_count": null,
   "metadata": {
    "collapsed": false,
    "scrolled": false
   },
   "outputs": []
  }
 ],
 "nbformat": 4,
 "metadata": {
  "language_info": {
   "nbconvert_exporter": "python",
   "file_extension": ".py",
   "codemirror_mode": {
    "name": "ipython",
    "version": 3
   },
   "mimetype": "text/x-python",
   "name": "python",
   "pygments_lexer": "ipython3",
   "version": "3.5.3"
  },
  "kernelspec": {
   "name": "freiburg-2017-02",
   "language": "",
   "display_name": "Environment (freiburg-2017-02)"
  }
 },
 "nbformat_minor": 0
}