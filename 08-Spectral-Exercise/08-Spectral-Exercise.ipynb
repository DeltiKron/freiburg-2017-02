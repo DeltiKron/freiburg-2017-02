{
 "cells": [
  {
   "source": [
    "# Inspecting spectral data"
   ],
   "cell_type": "markdown",
   "metadata": {}
  },
  {
   "source": [
    "As a final task to demonstrate that you can do real science with Python, we're going to have a look at the time series of spectral data we used earlier today."
   ],
   "cell_type": "markdown",
   "metadata": {}
  },
  {
   "source": [
    "1. Load the CRISP time series data we downloaded earlier (CRISP_TXY_Cube.fits.gz) plot the image for one timestep\n",
    "1. Choose a slice of the data array to act as a spectrograph slit and plot the location of this line on your image plot\n",
    "1. Plot the data from your chosen slit. Bonus points if you animate it to show the change of your data with time.\n",
    "1. Choose a location along the slit and Fourier transform the time series for that location. Plot the output"
   ],
   "cell_type": "markdown",
   "metadata": {}
  },
  {
   "source": [
    "You'll want to have a look at the numpy.fft module for the Fourier transorm."
   ],
   "cell_type": "markdown",
   "metadata": {}
  },
  {
   "outputs": [],
   "cell_type": "code",
   "execution_count": null,
   "metadata": {
    "collapsed": false
   },
   "source": [
    "#cube_file = download_file(\"http://data.sunpy.org/CRISP_TXY_Cube.fits.gz\", cache=True)"
   ]
  },
  {
   "outputs": [],
   "cell_type": "code",
   "execution_count": null,
   "metadata": {
    "collapsed": false
   },
   "source": []
  },
  {
   "outputs": [],
   "cell_type": "code",
   "execution_count": null,
   "metadata": {
    "collapsed": true
   },
   "source": []
  },
  {
   "outputs": [],
   "cell_type": "code",
   "execution_count": null,
   "metadata": {
    "collapsed": false
   },
   "source": []
  },
  {
   "outputs": [],
   "cell_type": "code",
   "execution_count": null,
   "metadata": {
    "collapsed": false
   },
   "source": []
  },
  {
   "outputs": [],
   "cell_type": "code",
   "execution_count": null,
   "metadata": {
    "collapsed": false
   },
   "source": [
    "# take a slit in the data\n"
   ]
  },
  {
   "outputs": [],
   "cell_type": "code",
   "execution_count": null,
   "metadata": {
    "collapsed": false
   },
   "source": []
  },
  {
   "outputs": [],
   "cell_type": "code",
   "execution_count": null,
   "metadata": {
    "collapsed": false
   },
   "source": []
  },
  {
   "outputs": [],
   "cell_type": "code",
   "execution_count": null,
   "metadata": {
    "collapsed": false
   },
   "source": []
  },
  {
   "outputs": [],
   "cell_type": "code",
   "execution_count": null,
   "metadata": {
    "scrolled": false,
    "collapsed": false
   },
   "source": []
  }
 ],
 "nbformat_minor": 0,
 "metadata": {
  "language_info": {
   "mimetype": "text/x-python",
   "file_extension": ".py",
   "codemirror_mode": {
    "version": 3,
    "name": "ipython"
   },
   "name": "python",
   "pygments_lexer": "ipython3",
   "nbconvert_exporter": "python",
   "version": "3.5.3"
  },
  "kernelspec": {
   "language": "",
   "display_name": "Environment (freiburg-2017-02)",
   "name": "freiburg-2017-02"
  }
 },
 "nbformat": 4
}