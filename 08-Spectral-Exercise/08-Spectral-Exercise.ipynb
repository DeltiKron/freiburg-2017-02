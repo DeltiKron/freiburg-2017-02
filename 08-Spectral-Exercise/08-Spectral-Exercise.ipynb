{
 "metadata": {
  "kernelspec": {
   "language": "python",
   "name": "python3",
   "display_name": "Python 3"
  },
  "language_info": {
   "nbconvert_exporter": "python",
   "mimetype": "text/x-python",
   "pygments_lexer": "ipython3",
   "file_extension": ".py",
   "name": "python",
   "version": "3.5.2",
   "codemirror_mode": {
    "name": "ipython",
    "version": 3
   }
  }
 },
 "nbformat_minor": 0,
 "cells": [
  {
   "metadata": {
    "collapsed": false
   },
   "cell_type": "code",
   "source": [
    "#cube_file = download_file(\"http://data.sunpy.org/CRISP_LXY_Cube.fits.gz\", cache=True)\n",
    "#cube_file = download_file(\"http://data.sunpy.org/CRISP_TXY_Cube.fits.gz\", cache=True)"
   ],
   "execution_count": 1,
   "outputs": []
  },
  {
   "metadata": {
    "collapsed": false
   },
   "cell_type": "code",
   "source": [],
   "execution_count": 10,
   "outputs": []
  },
  {
   "metadata": {
    "collapsed": false
   },
   "cell_type": "code",
   "source": [],
   "execution_count": 2,
   "outputs": []
  },
  {
   "metadata": {
    "collapsed": false
   },
   "cell_type": "code",
   "source": [],
   "execution_count": 12,
   "outputs": []
  },
  {
   "metadata": {
    "collapsed": false
   },
   "cell_type": "code",
   "source": [],
   "execution_count": 25,
   "outputs": []
  },
  {
   "metadata": {
    "collapsed": false
   },
   "cell_type": "code",
   "source": [],
   "execution_count": 4,
   "outputs": []
  },
  {
   "metadata": {
    "collapsed": false
   },
   "cell_type": "code",
   "source": [
    "# take a slit in the data\n"
   ],
   "execution_count": 5,
   "outputs": []
  },
  {
   "metadata": {
    "collapsed": false
   },
   "cell_type": "code",
   "source": [],
   "execution_count": 23,
   "outputs": []
  },
  {
   "metadata": {
    "collapsed": false
   },
   "cell_type": "code",
   "source": [],
   "execution_count": 17,
   "outputs": []
  },
  {
   "metadata": {
    "collapsed": false
   },
   "cell_type": "code",
   "source": [],
   "execution_count": 56,
   "outputs": []
  },
  {
   "metadata": {
    "collapsed": false
   },
   "cell_type": "code",
   "source": [
    "#lightcurve = np.sin(np.linspace(0, 2*np.pi, 32))\n"
   ],
   "execution_count": 65,
   "outputs": []
  },
  {
   "metadata": {
    "collapsed": false
   },
   "cell_type": "code",
   "source": [],
   "execution_count": 63,
   "outputs": []
  }
 ],
 "nbformat": 4
}