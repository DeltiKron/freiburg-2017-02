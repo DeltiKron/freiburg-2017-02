{
 "cells": [
  {
   "cell_type": "markdown",
   "metadata": {},
   "source": [
    "# KIS Freiburg Workshop"
   ]
  },
  {
   "cell_type": "markdown",
   "metadata": {},
   "source": [
    "This repository contains the material taught at the OpenAstronomy workshop at Freiburg in February 2017.\n",
    "The first day is an introduction to Python for scientists already familiar with programming concepts, and the second day covers Astropy and SunPy.\n",
    "\n",
    "The introductory Python lessons are adapted from the excellent [Software Carpentry](https://software-carpentry.org/lessons/) material.\n"
   ]
  },
  {
   "cell_type": "markdown",
   "metadata": {},
   "source": [
    "## Schedule\n",
    "\n",
    "The rough schedule is as follows:\n",
    "\n",
    "| | **Day 1** | **Day 2** |\n",
    "| :---: | :---: | :---: |\n",
    "| 09:00 | Introduction and software setup | -- |\n",
    "| 09:30 | [Version Control with Git](http://swcarpentry.github.io/git-novice/) | [Intro to SunPy](./05-SunPy-Intro/index.ipynb) |\n",
    "| 10:50 | Coffee | Coffee |\n",
    "| 11:10 | [An Introduction to Python](./02-Python-Intro/index.ipynb) | [Images in Solar Astronomy](./06-Solar-Images/index.ipynb) |\n",
    "| 12:30 | Lunch break | Lunch break |\n",
    "| 13:30 | [Units and Plotting](./03-units-images/index.ipynb) | [Obtaining and Coaligning Data]() |\n",
    "| 14:50 | Coffee | Coffee |\n",
    "| 15:10 | Exercise: [Approximating Pi](./04-Animation/04-Animation-Excercise.ipynb) (end 16:30) | Exercise: [Inspecting Spectral Data]() (end 16:00) |"
   ]
  },
  {
   "cell_type": "markdown",
   "metadata": {},
   "source": [
    "## Getting Setup"
   ]
  },
  {
   "cell_type": "markdown",
   "metadata": {},
   "source": [
    "You should have Python 3.5 installed and you should be able to open and run this Jupyter Notebook. Run the following cells to make sure you have the correct things installed. If your versions differ from the ones listed below you should run `conda update --all` at your terminal, if you have installed Python with conda."
   ]
  },
  {
   "cell_type": "code",
   "execution_count": 1,
   "metadata": {
    "collapsed": true
   },
   "outputs": [],
   "source": [
    "import sunpy"
   ]
  },
  {
   "cell_type": "code",
   "execution_count": 4,
   "metadata": {
    "collapsed": false
   },
   "outputs": [
    {
     "data": {
      "text/plain": [
       "'0.7.6'"
      ]
     },
     "execution_count": 4,
     "metadata": {},
     "output_type": "execute_result"
    }
   ],
   "source": [
    "sunpy.__version__"
   ]
  },
  {
   "cell_type": "code",
   "execution_count": 5,
   "metadata": {
    "collapsed": true
   },
   "outputs": [],
   "source": [
    "import astropy"
   ]
  },
  {
   "cell_type": "code",
   "execution_count": 6,
   "metadata": {
    "collapsed": false
   },
   "outputs": [
    {
     "data": {
      "text/plain": [
       "'1.3'"
      ]
     },
     "execution_count": 6,
     "metadata": {},
     "output_type": "execute_result"
    }
   ],
   "source": [
    "astropy.__version__"
   ]
  },
  {
   "cell_type": "code",
   "execution_count": 8,
   "metadata": {
    "collapsed": false
   },
   "outputs": [],
   "source": [
    "from astropy.visualization import wcsaxes"
   ]
  },
  {
   "cell_type": "markdown",
   "metadata": {},
   "source": [
    "## Help\n",
    "\n",
    "If you have any questions throughout the day you can always ask Drew or Stuart or each other using this chat link: [#freiburg-oa-workshop](https://riot.im/app/#/room/#freiburg-oa-workshop:matrix.org)"
   ]
  }
 ],
 "metadata": {
  "kernelspec": {
   "display_name": "Python 3",
   "language": "python",
   "name": "python3"
  },
  "language_info": {
   "codemirror_mode": {
    "name": "ipython",
    "version": 3
   },
   "file_extension": ".py",
   "mimetype": "text/x-python",
   "name": "python",
   "nbconvert_exporter": "python",
   "pygments_lexer": "ipython3",
   "version": "3.5.2"
  }
 },
 "nbformat": 4,
 "nbformat_minor": 2
}
