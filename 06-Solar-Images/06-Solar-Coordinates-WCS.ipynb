{
 "nbformat_minor": 0,
 "nbformat": 4,
 "cells": [
  {
   "cell_type": "markdown",
   "source": [
    "# Coordinates and World Coordinate Systems"
   ],
   "metadata": {
    "ein.tags": [
     "worksheet-0"
    ]
   }
  },
  {
   "cell_type": "markdown",
   "source": [
    "This notebook will give you a introduction to solar physics coordinate systems and the tools availble in Python for coverting between pixel coordinates and different physical coordinate systems. "
   ],
   "metadata": {}
  },
  {
   "cell_type": "markdown",
   "source": [
    "<section class=\"objectives panel panel-warning\">\n",
    "<div class=\"panel-heading\">\n",
    "<h3><span class=\"fa fa-certificate\"></span> Learning Objectives </h3>\n",
    "</div>\n",
    "<ul>\n",
    "    <li>Projected Coordinate Systems in Images</li>\n",
    "    <li>World Coordinate Systems</li>\n",
    "    <li>Using WCS to calculate coordinates in images</li>\n",
    "</ul>\n",
    "</section>"
   ],
   "metadata": {}
  },
  {
   "cell_type": "markdown",
   "source": [
    "## Projected Coordinate Systems"
   ],
   "metadata": {
    "ein.tags": [
     "worksheet-0"
    ]
   }
  },
  {
   "cell_type": "markdown",
   "source": [
    "<div style=\"float:left; width:39%\">\n",
    "<p>\n",
    "When taking images of the sky, we are projecting the spherical celestial coordinate system onto a 2-dimensional plane, which means that there is no simple linear relation between pixel coordinates and celestial coordinates\n",
    "</p>\n",
    "<p>\n",
    "There are multiple coordinate systems used to describe the locations in 2D and 3D space for both Astronomy and Solar Physics. We shall use a couple of these systems here as examples but if you want to know more about them there are many of resources avalible.\n",
    "</p>\n",
    "<p>\n",
    "Useful coordinate and WCS resources:\n",
    "<ol>\n",
    "<li>\n",
    "<a href=\"http://www.aanda.org/10.1051/0004-6361:20054262\">\n",
    "Thompson, W. T. Coordinate systems for solar image data. Astronomy and Astrophysics 449, 791\u2013803 (2006).\n",
    "</a>\n",
    "</li>\n",
    "<li>\n",
    "<a href=\"http://www.edpsciences.org/10.1051/0004-6361:20021326\">\n",
    "Greisen, E. W. & Calabretta, M. R. Representations of world coordinates in FITS. Astronomy and Astrophysics 395, 1061\u20131075 (2002).\n",
    "</a>\n",
    "</li>\n",
    "<li>\n",
    "<a href=\"http://www.edpsciences.org/10.1051/0004-6361:20021327\">\n",
    "Calabretta, M. R. & Greisen, E. W. Representations of celestial coordinates in FITS. Astronomy and Astrophysics 395, 1077\u20131122 (2002).\n",
    "</a>\n",
    "</li>\n",
    "<li>\n",
    "<a href=\"https://fits.gsfc.nasa.gov/fits_wcs.html\">\n",
    "FITS WCS Page\n",
    "</a>\n",
    "</li>\n",
    "</ol>\n",
    "\n",
    "</div>\n",
    "<div style=\"float:left; width:59%\">\n",
    "<img src=\"coord_inset.png\" width=100% />\n",
    "</div>"
   ],
   "metadata": {
    "ein.tags": [
     "worksheet-0"
    ]
   }
  },
  {
   "cell_type": "markdown",
   "source": [
    "### Physical Coordinate Systems"
   ],
   "metadata": {}
  },
  {
   "cell_type": "markdown",
   "source": [
    "Projected coordinate systems are one type of physical coordinate systems, they are the one we will be focusing on in this lesson due to their applicability to imaging data. Astropy and SunPy support representing point in many different physical coordinate systems, both projected and fully 3D, such as ICRS or Helioprojective."
   ],
   "metadata": {}
  },
  {
   "cell_type": "markdown",
   "source": [
    "SunPy supports the following coordinate systems from Thompson (2006):\n",
    "\n",
    "* Helioprojective (Cartesian)\n",
    "* Heliocentric\n",
    "* Heliographic (Stonyhurst)\n",
    "* Heliographic (Carrington)"
   ],
   "metadata": {}
  },
  {
   "outputs": [],
   "cell_type": "code",
   "execution_count": null,
   "source": [],
   "metadata": {
    "collapsed": false
   }
  },
  {
   "outputs": [],
   "cell_type": "code",
   "execution_count": null,
   "source": [],
   "metadata": {
    "collapsed": false
   }
  },
  {
   "outputs": [],
   "cell_type": "code",
   "execution_count": null,
   "source": [],
   "metadata": {
    "collapsed": false
   }
  },
  {
   "outputs": [],
   "cell_type": "code",
   "execution_count": null,
   "source": [],
   "metadata": {
    "collapsed": false
   }
  },
  {
   "outputs": [],
   "cell_type": "code",
   "execution_count": null,
   "source": [],
   "metadata": {
    "collapsed": false
   }
  },
  {
   "cell_type": "markdown",
   "source": [
    "## World Coordinate Systems\n",
    "\n",
    "### From pixels  to physical coordinates"
   ],
   "metadata": {
    "ein.tags": [
     "worksheet-0"
    ]
   }
  },
  {
   "cell_type": "markdown",
   "source": [
    "The FITS files have a standard for describing the physical coordinate system associated with imaging data, this is called the world coordinate system or WCS, sometimes the specific FITS version of this is referred to as FITS-WCS.\n",
    "\n",
    "There are multiple papers describing the FITS-WCS standard for various types of data, there is a list here: http://fits.gsfc.nasa.gov/fits_wcs.html"
   ],
   "metadata": {
    "ein.tags": [
     "worksheet-0"
    ]
   }
  },
  {
   "cell_type": "markdown",
   "source": [
    "As you learned in the previous lesson we can load FITS files with Astropy. To demonstrate a simple example of a FITS file with FITS-WCS information in the header we shall use an image from SunPy:"
   ],
   "metadata": {
    "ein.tags": [
     "worksheet-0"
    ]
   }
  },
  {
   "outputs": [],
   "cell_type": "code",
   "execution_count": null,
   "source": [],
   "metadata": {
    "collapsed": false,
    "scrolled": true,
    "autoscroll": "json-false",
    "ein.tags": [
     "worksheet-0"
    ]
   }
  },
  {
   "cell_type": "markdown",
   "source": [
    "As you can see there are lots of keys in this and most other real world FITS headers. The ones we need to understand for FITS-WCS are:"
   ],
   "metadata": {
    "ein.tags": [
     "worksheet-0"
    ]
   }
  },
  {
   "cell_type": "markdown",
   "source": [
    "Reference Pixel and Coordinate:"
   ],
   "metadata": {
    "ein.tags": [
     "worksheet-0"
    ]
   }
  },
  {
   "outputs": [],
   "cell_type": "code",
   "execution_count": null,
   "source": [],
   "metadata": {
    "collapsed": false,
    "autoscroll": "json-false",
    "ein.tags": [
     "worksheet-0"
    ]
   }
  },
  {
   "cell_type": "markdown",
   "source": [
    "Pixel resolution (at the reference pixel):"
   ],
   "metadata": {
    "ein.tags": [
     "worksheet-0"
    ]
   }
  },
  {
   "outputs": [],
   "cell_type": "code",
   "execution_count": null,
   "source": [],
   "metadata": {
    "collapsed": false,
    "autoscroll": "json-false",
    "ein.tags": [
     "worksheet-0"
    ]
   }
  },
  {
   "cell_type": "markdown",
   "source": [
    "Rotation angle, in degress (at the reference pixel):"
   ],
   "metadata": {
    "ein.tags": [
     "worksheet-0"
    ]
   }
  },
  {
   "outputs": [],
   "cell_type": "code",
   "execution_count": null,
   "source": [],
   "metadata": {
    "collapsed": false,
    "autoscroll": "json-false",
    "ein.tags": [
     "worksheet-0"
    ]
   }
  },
  {
   "cell_type": "markdown",
   "source": [
    "Coordinate System and Projection:"
   ],
   "metadata": {
    "ein.tags": [
     "worksheet-0"
    ]
   }
  },
  {
   "outputs": [],
   "cell_type": "code",
   "execution_count": null,
   "source": [],
   "metadata": {
    "collapsed": false,
    "autoscroll": "json-false",
    "ein.tags": [
     "worksheet-0"
    ]
   }
  },
  {
   "cell_type": "markdown",
   "source": [
    "We could now sit down and work out how to convert from a pixel coordinate to a physical coordinate described by this header (Helioprojective).\n",
    "\n",
    "However, we can cheat and just use Astropy."
   ],
   "metadata": {
    "ein.tags": [
     "worksheet-0"
    ]
   }
  },
  {
   "outputs": [],
   "cell_type": "code",
   "execution_count": null,
   "source": [],
   "metadata": {
    "collapsed": true,
    "autoscroll": "json-false",
    "ein.tags": [
     "worksheet-0"
    ]
   }
  },
  {
   "cell_type": "markdown",
   "source": [
    "We can convert from pixel to world coordinate:"
   ],
   "metadata": {
    "ein.tags": [
     "worksheet-0"
    ]
   }
  },
  {
   "outputs": [],
   "cell_type": "code",
   "execution_count": null,
   "source": [],
   "metadata": {
    "collapsed": false,
    "autoscroll": "json-false",
    "ein.tags": [
     "worksheet-0"
    ]
   }
  },
  {
   "cell_type": "markdown",
   "source": [
    "Or back again:"
   ],
   "metadata": {
    "ein.tags": [
     "worksheet-0"
    ]
   }
  },
  {
   "outputs": [],
   "cell_type": "code",
   "execution_count": null,
   "source": [],
   "metadata": {
    "collapsed": false,
    "autoscroll": "json-false",
    "ein.tags": [
     "worksheet-0"
    ]
   }
  },
  {
   "cell_type": "markdown",
   "source": [
    "The last parameter to the two above examples is the 'origin' parameter. It is a flag that tells WCS if you indexes should be 0-based (like numpy) or 1-based (like FITS).\n",
    "Here we are using 0 as we want to convert to and from numpy indexes of the array."
   ],
   "metadata": {
    "ein.tags": [
     "worksheet-0"
    ]
   }
  },
  {
   "cell_type": "markdown",
   "source": [
    "To make these numbers more in a form you are familiar with, we can use Astropy's Longitude and Latitude classes:"
   ],
   "metadata": {}
  },
  {
   "outputs": [],
   "cell_type": "code",
   "execution_count": null,
   "source": [],
   "metadata": {
    "collapsed": true
   }
  },
  {
   "outputs": [],
   "cell_type": "code",
   "execution_count": null,
   "source": [],
   "metadata": {
    "collapsed": false
   }
  },
  {
   "outputs": [],
   "cell_type": "code",
   "execution_count": null,
   "source": [],
   "metadata": {
    "collapsed": false
   }
  },
  {
   "cell_type": "markdown",
   "source": [
    "<section class=\"objectives panel panel-success\">\n",
    "<div class=\"panel-heading\">\n",
    "<h2><span class=\"fa fa-pencil\"></span> How large is the image? </h2>\n",
    "</div>\n",
    "<br/>\n",
    "To get a little practise using Astropy's WCS calculate the world coordinates of the following pixels:\n",
    "<code>\n",
    "[-500, 0]\n",
    "[500, 500]\n",
    "[0, 0]\n",
    "</code>\n",
    "<br/>\n",
    "</section>"
   ],
   "metadata": {
    "ein.tags": [
     "worksheet-0"
    ]
   }
  },
  {
   "outputs": [],
   "cell_type": "code",
   "execution_count": null,
   "source": [],
   "metadata": {
    "collapsed": false,
    "autoscroll": "json-false",
    "ein.tags": [
     "worksheet-0"
    ]
   }
  }
 ],
 "metadata": {
  "kernelspec": {
   "language": "python",
   "display_name": "Python 3",
   "name": "python3"
  },
  "name": "Astro_Images.ipynb",
  "language_info": {
   "name": "python",
   "version": "3.5.2",
   "nbconvert_exporter": "python",
   "file_extension": ".py",
   "pygments_lexer": "ipython3",
   "mimetype": "text/x-python",
   "codemirror_mode": {
    "name": "ipython",
    "version": 3
   }
  }
 }
}