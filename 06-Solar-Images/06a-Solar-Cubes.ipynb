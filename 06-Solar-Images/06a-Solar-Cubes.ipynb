{
 "nbformat_minor": 0,
 "nbformat": 4,
 "cells": [
  {
   "cell_type": "markdown",
   "source": [
    "# Three Dimensional Cubes "
   ],
   "metadata": {
    "collapsed": true
   }
  },
  {
   "cell_type": "markdown",
   "source": [
    "<section class=\"objectives panel panel-warning\">\n",
    "<div class=\"panel-heading\">\n",
    "<h3><span class=\"fa fa-certificate\"></span> Learning Objectives </h3>\n",
    "</div>\n",
    "<ul>\n",
    "    <li>Plotting cubes with WCS objects</li>\n",
    "    <li>Exploring Cubes with SunPy</li>\n",
    "</ul>\n",
    "</section>"
   ],
   "metadata": {}
  },
  {
   "cell_type": "markdown",
   "source": [
    "Cube arrays are quite common in ground based and spectral type data, so we are going to use one as an example. SunPy has no wrapper class (like `Map`) for multi-dimensional data so this is an excellent way to use the things we have covered so far."
   ],
   "metadata": {
    "collapsed": true
   }
  },
  {
   "outputs": [],
   "cell_type": "code",
   "execution_count": null,
   "source": [],
   "metadata": {
    "collapsed": false
   }
  },
  {
   "cell_type": "markdown",
   "source": [
    "Download the file:"
   ],
   "metadata": {
    "collapsed": true
   }
  },
  {
   "outputs": [],
   "cell_type": "code",
   "execution_count": null,
   "source": [
    "from astropy.utils.data import download_file\n",
    "\n",
    "cube_file = download_file(\"http://data.sunpy.org/CRISP_LXY_Cube.fits.gz\", cache=True)"
   ],
   "metadata": {
    "keep": true,
    "collapsed": false
   }
  },
  {
   "cell_type": "markdown",
   "source": [
    "Read in the cube FITS file"
   ],
   "metadata": {}
  },
  {
   "outputs": [],
   "cell_type": "code",
   "execution_count": null,
   "source": [],
   "metadata": {
    "collapsed": false
   }
  },
  {
   "outputs": [],
   "cell_type": "code",
   "execution_count": null,
   "source": [],
   "metadata": {
    "collapsed": false
   }
  },
  {
   "outputs": [],
   "cell_type": "code",
   "execution_count": null,
   "source": [],
   "metadata": {
    "collapsed": false
   }
  },
  {
   "cell_type": "markdown",
   "source": [
    "From this cube file we can construct an [`astropy.wcs`](http://docs.astropy.org/en/stable/wcs/index.html) object from the FITS header and then plot images from the array.\n",
    "\n",
    "You can build a `WCS` object from a filepath or a header or a dictionary. Here we use the header object from the cube."
   ],
   "metadata": {}
  },
  {
   "outputs": [],
   "cell_type": "code",
   "execution_count": null,
   "source": [],
   "metadata": {
    "collapsed": false
   }
  },
  {
   "cell_type": "markdown",
   "source": [
    "For this `WCS` object to correctly create SunPy coordinates objects, it needs to have correct Sun-Earth distance information. By default it currently uses 1 AU, which is almost always incorrect!\n",
    "\n",
    "We can do this from the date of the observations using `sunpy.sun`. SunPy will attempt to read the observer location information from three attributes. The one we are setting is `dsun`."
   ],
   "metadata": {}
  },
  {
   "outputs": [],
   "cell_type": "code",
   "execution_count": null,
   "source": [
    "# Set the correct Sun-Earth distance\n"
   ],
   "metadata": {
    "collapsed": false
   }
  },
  {
   "outputs": [],
   "cell_type": "code",
   "execution_count": null,
   "source": [],
   "metadata": {
    "collapsed": false
   }
  },
  {
   "cell_type": "markdown",
   "source": [
    "This cube has three axes: Wavelength, Longitude, Latitude. Note that the WCS axis ordering is out of order with the array, this is due to the "
   ],
   "metadata": {}
  },
  {
   "outputs": [],
   "cell_type": "code",
   "execution_count": null,
   "source": [],
   "metadata": {
    "collapsed": false
   }
  },
  {
   "cell_type": "markdown",
   "source": [
    "**Note:** The WCS axis ordering and the array order are reversed. The wavelength axis here is 32 long."
   ],
   "metadata": {}
  },
  {
   "cell_type": "markdown",
   "source": [
    "### Plot a Line Wing"
   ],
   "metadata": {}
  },
  {
   "outputs": [],
   "cell_type": "code",
   "execution_count": null,
   "source": [],
   "metadata": {
    "collapsed": false,
    "scrolled": false
   }
  },
  {
   "cell_type": "markdown",
   "source": [
    "### Plot the Line Core"
   ],
   "metadata": {}
  },
  {
   "outputs": [],
   "cell_type": "code",
   "execution_count": null,
   "source": [],
   "metadata": {
    "collapsed": false
   }
  },
  {
   "cell_type": "markdown",
   "source": [
    "<section class=\"objectives panel panel-success\">\n",
    "<div class=\"panel-heading\">\n",
    "<h2><span class=\"fa fa-pencil\"></span> Plot a Wavelength Slice </h2>\n",
    "</div>\n",
    "<p>\n",
    "Change the slice to plot a slice through the cube in the longitude axis. Optionally, change the formatting of the wavelength ticks and add better axis labels.\n",
    "</p>\n",
    "</section>"
   ],
   "metadata": {}
  },
  {
   "outputs": [],
   "cell_type": "code",
   "execution_count": null,
   "source": [],
   "metadata": {
    "collapsed": false
   }
  },
  {
   "outputs": [],
   "cell_type": "code",
   "execution_count": null,
   "source": [
    "# Transpose the array so the wavelength dimension is last ('x')\n",
    "# Make the wavelength ticks nice\n"
   ],
   "metadata": {
    "collapsed": false
   }
  },
  {
   "cell_type": "markdown",
   "source": [
    "### Overplot the Heliograpic Grid"
   ],
   "metadata": {}
  },
  {
   "cell_type": "markdown",
   "source": [
    "Extract a spatial axis only WCS"
   ],
   "metadata": {}
  },
  {
   "outputs": [],
   "cell_type": "code",
   "execution_count": null,
   "source": [],
   "metadata": {
    "collapsed": false
   }
  },
  {
   "outputs": [],
   "cell_type": "code",
   "execution_count": null,
   "source": [],
   "metadata": {
    "collapsed": false,
    "autoscroll": "json-false",
    "ein.tags": [
     "worksheet-0"
    ]
   }
  },
  {
   "cell_type": "markdown",
   "source": [
    "## Make a Map "
   ],
   "metadata": {}
  },
  {
   "outputs": [],
   "cell_type": "code",
   "execution_count": null,
   "source": [],
   "metadata": {
    "collapsed": false
   }
  },
  {
   "outputs": [],
   "cell_type": "code",
   "execution_count": null,
   "source": [],
   "metadata": {
    "collapsed": false
   }
  }
 ],
 "metadata": {
  "kernelspec": {
   "language": "python",
   "display_name": "Python 3",
   "name": "python3"
  },
  "name": "Astro_Images.ipynb",
  "language_info": {
   "name": "python",
   "version": "3.5.2",
   "nbconvert_exporter": "python",
   "file_extension": ".py",
   "pygments_lexer": "ipython3",
   "mimetype": "text/x-python",
   "codemirror_mode": {
    "name": "ipython",
    "version": 3
   }
  }
 }
}