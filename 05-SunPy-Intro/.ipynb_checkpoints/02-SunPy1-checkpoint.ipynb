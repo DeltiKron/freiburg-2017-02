{
 "cells": [
  {
   "cell_type": "markdown",
   "metadata": {},
   "source": [
    "# Plotting and SunPy"
   ]
  },
  {
   "cell_type": "markdown",
   "metadata": {},
   "source": [
    "## Generic plotting with `matplotlib`"
   ]
  },
  {
   "cell_type": "markdown",
   "metadata": {},
   "source": [
    "Python has a lot of visualisation libraries, but the one most commonly used for basic plotting is `matplotlib`, and SunPy uses this library for plotting solar data. `matplotlib` is pretty extensive and can do some very fancy visualisation, but today we'll just be showing you enough to help you understand how SunPy plots things.\n",
    "\n",
    "By default, `matplotlib` displays plots in pop-out interactive windows, but this can be annoying when working in a notebook. In order to keep the interactivity but display the plot within the notebook, we need the following command:"
   ]
  },
  {
   "cell_type": "code",
   "execution_count": null,
   "metadata": {
    "collapsed": false
   },
   "outputs": [],
   "source": [
    "# We'll need this command for plotting things in the notebook\n"
   ]
  },
  {
   "cell_type": "markdown",
   "metadata": {},
   "source": [
    "We'll also be using NumPy again and will need the `pyplot` submodule from within `matplotlib`"
   ]
  },
  {
   "cell_type": "code",
   "execution_count": null,
   "metadata": {
    "collapsed": true
   },
   "outputs": [],
   "source": [
    "#Import statements\n"
   ]
  },
  {
   "cell_type": "markdown",
   "metadata": {},
   "source": [
    "With that out of the way we can move on to making some simple plots."
   ]
  },
  {
   "cell_type": "markdown",
   "metadata": {},
   "source": [
    "### Line plots"
   ]
  },
  {
   "cell_type": "markdown",
   "metadata": {},
   "source": [
    "`pyplot` provides a `plot()` function which does pretty much what you would expect. If you pass this function two variables containing sequences of numbers, it will take these to be the x and y values (in that order) and plot the appropriate line. Given a single sequence, those numbers will be interpreted as y values and will be plotted against the corresponding indices within the sequence."
   ]
  },
  {
   "cell_type": "code",
   "execution_count": null,
   "metadata": {
    "collapsed": false
   },
   "outputs": [],
   "source": [
    "# Make some data to go in the plot\n",
    "# Define some more data\n",
    "# Plot the data\n"
   ]
  },
  {
   "cell_type": "markdown",
   "metadata": {},
   "source": [
    "### Figures"
   ]
  },
  {
   "cell_type": "markdown",
   "metadata": {},
   "source": [
    "`matplotlib` plots are drawn onto a `Figure` object. Python creates one of these automatically if there isn't one defined when you try to make a plot, but it is much better practice to define one first, like this:"
   ]
  },
  {
   "cell_type": "code",
   "execution_count": null,
   "metadata": {
    "collapsed": false
   },
   "outputs": [],
   "source": [
    "# This creatures a Figure which will hold our plots.\n",
    "# Plot the data again.\n"
   ]
  },
  {
   "cell_type": "markdown",
   "metadata": {},
   "source": [
    "So far this has made very little practical difference, but now the `Figure` is a defined variable in our top-level code, rather than being hidden away inside `matplotlib`, so we can manipulate it."
   ]
  },
  {
   "cell_type": "markdown",
   "metadata": {},
   "source": [
    "### Axes and subplots"
   ]
  },
  {
   "cell_type": "markdown",
   "metadata": {},
   "source": [
    "For example, Python also automatically creates an `Axes` object when you draw onto an empty `Figure`. This is fine if you only want one plot, but by calling a method of the `Figure`, we can add multiple `Axes` and plot on them separately.\n",
    "\n",
    "The method we'll use is `add_subplot()`, which takes three arguments. The first two specify the number of plots you want in the vertical and horizontal directions, repectively, and the third specifies the number position at which you want to place the plot in this implied grid. The numbering goes from top to bottom, left to right, and starts at 1, rather than at 0 as with indexing.\n",
    "\n",
    "As with `Figure`s, having defined some `Axes` we can manipulate them to tweak our plots. In this example we'll just demonstrate by changing the limits of the x-axis on one of the plots, but there are lots of other things that can be done to change the plot's appearance."
   ]
  },
  {
   "cell_type": "code",
   "execution_count": null,
   "metadata": {
    "collapsed": false
   },
   "outputs": [],
   "source": [
    "# Create a Figure\n",
    "# Create two subplots on the Figure, one above the other\n",
    "# Plot some data on each of the subplots\n",
    "# Change the limits of the x-axis on the upper plot\n"
   ]
  },
  {
   "cell_type": "markdown",
   "metadata": {},
   "source": [
    "This way of adding subplots is fine, but a little clunky, especially if you want to plot lots of things on one figure. For this you can use the `subplots()` function instead, which just takes the horizontal and vertical extents of the grid you want, and returns _all_ the subplots in an array."
   ]
  },
  {
   "cell_type": "code",
   "execution_count": null,
   "metadata": {
    "collapsed": false
   },
   "outputs": [],
   "source": [
    "# Create multiple subplots at once\n",
    "# Access subplots from an array instead of by using several indiviual variables\n"
   ]
  },
  {
   "cell_type": "markdown",
   "metadata": {},
   "source": [
    "## Working with solar data"
   ]
  },
  {
   "cell_type": "markdown",
   "metadata": {},
   "source": [
    "The core of SunPy's functionality is that it provides three objects for dealing with solar data types: `Map` for solar image data, `Lightcurve` for time-series data and `Spectra` for spectral data. Today we'll be focusing exclusively on `Map`, which is the most used and most developed, but it is worth being aware that the others exist should you need them.\n",
    "\n",
    "SunPy also provides several sample data files, which need to be manually downloaded. For this example we'll use the sample AIA 17.1nm image."
   ]
  },
  {
   "cell_type": "code",
   "execution_count": null,
   "metadata": {
    "collapsed": false
   },
   "outputs": [],
   "source": [
    "# Import statements\n",
    "# This is needed to download the sample data\n"
   ]
  },
  {
   "cell_type": "markdown",
   "metadata": {},
   "source": [
    "Once the sample data has been downloaded, you can import the `AIA_171_IMAGE` variable. Notice that this is not the image itself, but a string corresponding to the location of the image on disk. A `Map` object is created by passing `Map()` the filename of a valid fits image file, such as the one defined in `AIA_171_IMAGE`."
   ]
  },
  {
   "cell_type": "code",
   "execution_count": null,
   "metadata": {
    "collapsed": false
   },
   "outputs": [],
   "source": []
  },
  {
   "cell_type": "markdown",
   "metadata": {},
   "source": [
    "The two most important attributes of this new variable are `mymap.data`, which contains an array of the pixel values of the image, and `mymap.meta`, which contains the header information. Both of these are loaded from the specified file."
   ]
  },
  {
   "cell_type": "code",
   "execution_count": null,
   "metadata": {
    "collapsed": false
   },
   "outputs": [],
   "source": []
  },
  {
   "cell_type": "markdown",
   "metadata": {},
   "source": [
    "`Map` has many other attributes and methods that provide information about the image. Many of these make information from the header more readily available, so in practice you should not often have to deal with `Map.meta` directly."
   ]
  },
  {
   "cell_type": "code",
   "execution_count": null,
   "metadata": {
    "collapsed": false
   },
   "outputs": [],
   "source": []
  },
  {
   "cell_type": "markdown",
   "metadata": {},
   "source": [
    "Now let's get back to displaying data. There are two methods for plotting and displaying a `Map`. The first is `peek()`. This method is quick and easy to use, and automatically does a few things to make the plot look nice - it adds a title, sensible axes labels, a colourbar and a coordinate grid."
   ]
  },
  {
   "cell_type": "code",
   "execution_count": null,
   "metadata": {
    "collapsed": false
   },
   "outputs": [],
   "source": []
  },
  {
   "cell_type": "markdown",
   "metadata": {},
   "source": [
    "This is useful for quickly inspecting data, but can't really be customised much past this stage, so it isn't very flexible.\n",
    "\n",
    "The other plotting method, `plot()`, produces a very slightly simpler plot by default:"
   ]
  },
  {
   "cell_type": "code",
   "execution_count": null,
   "metadata": {
    "collapsed": false
   },
   "outputs": [],
   "source": []
  },
  {
   "cell_type": "markdown",
   "metadata": {},
   "source": [
    "But the advantage of using this method is that it provides a plot that can be customised in many of the same ways as a normal line or image plot. This can be done with various functions in `pyplot`, and by passing keyword arguments to the `plot()` function."
   ]
  },
  {
   "cell_type": "code",
   "execution_count": null,
   "metadata": {
    "collapsed": false
   },
   "outputs": [],
   "source": []
  },
  {
   "cell_type": "markdown",
   "metadata": {},
   "source": [
    "### Submaps"
   ]
  },
  {
   "cell_type": "markdown",
   "metadata": {},
   "source": [
    "`Map`s have the very useful functionality of being croppable. Using the `submap` method, you can crop a `Map` to specified coordinates, creating a new map with an updated header. This means all the attributes of the new `Map` are correct for the newly cropped data, so you never need to worry about updating it yourself."
   ]
  },
  {
   "cell_type": "code",
   "execution_count": null,
   "metadata": {
    "collapsed": false
   },
   "outputs": [],
   "source": [
    "# We'll use astropy units to demonstrate submapping\n",
    "# Check some information about the Map first.\n",
    "# Crop the Map and store the new one in another variable.\n",
    "# Check the same information again\n",
    "# Have a look\n"
   ]
  },
  {
   "cell_type": "markdown",
   "metadata": {},
   "source": [
    "## Challenge: Putting it all together"
   ]
  },
  {
   "cell_type": "markdown",
   "metadata": {},
   "source": [
    "1. Plot the sample AIA 17.1nm image, next to a submap of some interesting feature. Give both plots a colourbar and change the titles. \n",
    "1. Plot a black cross at the same point on both images.\n",
    "1. Plot a rectangle on the full `Map` which corresponds to the edges of the submap.\n",
    "\n",
    "**Hints:**\n",
    "- By default, plotting is done on the most recently created subplot unless specified otherwise. If you define several at once with `subplots()`, you may find you need to tell matplotlib which to consider to be the 'current' subplot with `plt.sca()`, which takes an `Axes` object as an argument.\n",
    "- `Map` has a `draw_rectangle()` method.\n",
    "- `matplotlib` can be fussy about astropy units - you'll often have to use just the value of a Quantity in order for the plotting functions to work properly."
   ]
  },
  {
   "cell_type": "code",
   "execution_count": null,
   "metadata": {
    "collapsed": false
   },
   "outputs": [],
   "source": [
    "# Plotting a line over a Map messes up the axes limits and they have to be reset\n",
    "# Define the bottom-left corner, width and height of a rectangle from the ranges of the submap\n",
    "# Same again on the right\n"
   ]
  }
 ],
 "metadata": {
  "kernelspec": {
   "display_name": "Python 3",
   "language": "python",
   "name": "python3"
  },
  "language_info": {
   "codemirror_mode": {
    "name": "ipython",
    "version": 3
   },
   "file_extension": ".py",
   "mimetype": "text/x-python",
   "name": "python",
   "nbconvert_exporter": "python",
   "pygments_lexer": "ipython3",
   "version": "3.5.2"
  }
 },
 "nbformat": 4,
 "nbformat_minor": 0
}
