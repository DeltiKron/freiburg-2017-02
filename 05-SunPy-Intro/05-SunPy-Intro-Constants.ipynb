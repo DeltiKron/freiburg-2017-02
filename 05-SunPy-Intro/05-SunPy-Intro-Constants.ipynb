{
 "metadata": {
  "kernelspec": {
   "language": "python",
   "name": "python3",
   "display_name": "Python 3"
  },
  "language_info": {
   "nbconvert_exporter": "python",
   "mimetype": "text/x-python",
   "pygments_lexer": "ipython3",
   "file_extension": ".py",
   "name": "python",
   "version": "3.5.2",
   "codemirror_mode": {
    "name": "ipython",
    "version": 3
   }
  }
 },
 "nbformat_minor": 0,
 "cells": [
  {
   "metadata": {},
   "cell_type": "markdown",
   "source": [
    "# Introduction to SunPy - Other Stuff"
   ]
  },
  {
   "metadata": {},
   "cell_type": "markdown",
   "source": [
    "As well as useful tools for dealing with data, SunPy also comes with a lot of helpful utilities and constants. Today we'll have a brief look at some of these."
   ]
  },
  {
   "metadata": {},
   "cell_type": "markdown",
   "source": [
    "## Solar variables\n",
    "\n",
    "First we'll look at the `sunpy.sun` module, which contains functions used to calculate useful values based on the time."
   ]
  },
  {
   "metadata": {
    "collapsed": false
   },
   "cell_type": "code",
   "source": [
    "# The dir() function lists the contents of a library\n"
   ],
   "execution_count": null,
   "outputs": []
  },
  {
   "metadata": {
    "collapsed": false
   },
   "cell_type": "code",
   "source": [],
   "execution_count": null,
   "outputs": []
  },
  {
   "metadata": {},
   "cell_type": "markdown",
   "source": [
    "## Solar constants"
   ]
  },
  {
   "metadata": {},
   "cell_type": "markdown",
   "source": [
    "There is also a module of constants:"
   ]
  },
  {
   "metadata": {
    "collapsed": false
   },
   "cell_type": "code",
   "source": [],
   "execution_count": null,
   "outputs": []
  },
  {
   "metadata": {},
   "cell_type": "markdown",
   "source": [
    "You'll notice that these constants define not only the value, but the units, uncertainty, and source of the measurement as well. However, when not being printed, they behave as normal Quantities, so you can perform calculations with them as normal:"
   ]
  },
  {
   "metadata": {
    "collapsed": false
   },
   "cell_type": "code",
   "source": [],
   "execution_count": null,
   "outputs": []
  },
  {
   "metadata": {},
   "cell_type": "markdown",
   "source": [
    "## Dealing with Time"
   ]
  },
  {
   "metadata": {},
   "cell_type": "markdown",
   "source": [
    "Python has a built in library called `datetime` which provides a lot of tools for dealing with dates and times. In particular, the `datetime` type is an extremely useful and flexible representation of a point in time."
   ]
  },
  {
   "metadata": {
    "collapsed": false
   },
   "cell_type": "code",
   "source": [
    "# Get the date and time right now\n",
    "# Define some other time\n"
   ],
   "execution_count": null,
   "outputs": []
  },
  {
   "metadata": {},
   "cell_type": "markdown",
   "source": [
    "In the time definition above we specify a particular point in time by passing integers for the year, month, day, hour and minute (in that order). Of these, only the year, month and day are actually necessary - the time defaults to midnight if not specified. We can also add greater precision by providing a second and microsecond.\n",
    "\n",
    "You can compare datetime objects to produce a `timedelta` object:"
   ]
  },
  {
   "metadata": {
    "collapsed": false
   },
   "cell_type": "code",
   "source": [],
   "execution_count": null,
   "outputs": []
  },
  {
   "metadata": {},
   "cell_type": "markdown",
   "source": [
    "which you can also then use in other operations with `datetime`s:"
   ]
  },
  {
   "metadata": {
    "collapsed": false
   },
   "cell_type": "code",
   "source": [],
   "execution_count": null,
   "outputs": []
  },
  {
   "metadata": {},
   "cell_type": "markdown",
   "source": [
    "The `datetime` library is very useful and well worth having a more detailed look at ([here](https://docs.python.org/3/library/datetime.html)). In some cases, though, it doesn't do quite enough, which is where the `sunpy.time` module can come in handy.\n",
    "\n",
    "Among the utilities provided by `sunpy.time` are the `parse_time()` function and the `TimeRange` object. `parse_time()` takes a string and converts it to a `datetime` variable as long as that string is in a valid time format."
   ]
  },
  {
   "metadata": {
    "collapsed": false
   },
   "cell_type": "code",
   "source": [],
   "execution_count": null,
   "outputs": []
  },
  {
   "metadata": {},
   "cell_type": "markdown",
   "source": [
    "This is often particularly useful, since the only information we have about the date of our data is usually in string format, rather than the intgers needed to create a `datetime` object manually.\n",
    "\n",
    "The `TimeRange` object defines a span of time and calculates some information about that span."
   ]
  },
  {
   "metadata": {
    "collapsed": false
   },
   "cell_type": "code",
   "source": [],
   "execution_count": null,
   "outputs": []
  },
  {
   "metadata": {
    "collapsed": false
   },
   "cell_type": "code",
   "source": [],
   "execution_count": null,
   "outputs": []
  }
 ],
 "nbformat": 4
}