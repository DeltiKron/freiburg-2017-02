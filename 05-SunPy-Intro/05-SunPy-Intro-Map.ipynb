{
 "cells": [
  {
   "source": [
    "# Introduction to SunPy - `Map`"
   ],
   "metadata": {},
   "cell_type": "markdown"
  },
  {
   "source": [
    "## Useful Links\n",
    "\n",
    "1. [SunPy Map Documentation](http://docs.sunpy.org/en/stable/guide/data_types/maps.html)\n",
    "1. [SunPy Example Gallery](http://docs.sunpy.org/en/stable/generated/gallery/index.html)"
   ],
   "metadata": {},
   "cell_type": "markdown"
  },
  {
   "source": [
    "## Working with solar data"
   ],
   "metadata": {},
   "cell_type": "markdown"
  },
  {
   "source": [
    "The core of SunPy's functionality is that it provides three objects for dealing with solar data types: `Map` for solar image data, `Lightcurve` for time-series data and `Spectra` for spectral data. Today we'll be focusing exclusively on `Map`, which is the most used and most developed, but it is worth being aware that the others exist should you need them.\n",
    "\n",
    "SunPy also provides several sample data files, which need to be manually downloaded. For this example we'll use the sample AIA 17.1nm image."
   ],
   "metadata": {},
   "cell_type": "markdown"
  },
  {
   "source": [
    "# This is needed to download the sample data\n",
    "from sunpy.data import download_sample_data\n",
    "download_sample_data(overwrite=False)"
   ],
   "metadata": {
    "collapsed": false,
    "keep": true
   },
   "execution_count": null,
   "outputs": [],
   "cell_type": "code"
  },
  {
   "source": [],
   "metadata": {
    "collapsed": true
   },
   "execution_count": null,
   "outputs": [],
   "cell_type": "code"
  },
  {
   "source": [
    "Once the sample data has been downloaded, you can import the `AIA_171_IMAGE` variable. Notice that this is not the image itself, but a string corresponding to the location of the image on disk. A `Map` object is created by passing `Map()` the filename of a valid fits image file, such as the one defined in `AIA_171_IMAGE`."
   ],
   "metadata": {},
   "cell_type": "markdown"
  },
  {
   "source": [],
   "metadata": {
    "collapsed": false
   },
   "execution_count": null,
   "outputs": [],
   "cell_type": "code"
  },
  {
   "source": [
    "The two most important attributes of this new variable are `mymap.data`, which contains an array of the pixel values of the image, and `mymap.meta`, which contains the header information. Both of these are loaded from the specified file."
   ],
   "metadata": {},
   "cell_type": "markdown"
  },
  {
   "source": [],
   "metadata": {
    "collapsed": false
   },
   "execution_count": null,
   "outputs": [],
   "cell_type": "code"
  },
  {
   "source": [
    "The disadvantage with FITS headers is that they're made to be read by a computer rather than a human, so it isn't always immediately clear what a particular keyword refers to. Fortunately, Map has a lot of attributes which reproduce the metadata in a more useable format, so in practice you shouldn't often have to deal with `Map.meta` directly. For instance:"
   ],
   "metadata": {},
   "cell_type": "markdown"
  },
  {
   "source": [],
   "metadata": {
    "collapsed": false
   },
   "execution_count": null,
   "outputs": [],
   "cell_type": "code"
  },
  {
   "source": [
    "`Map` also has some attributes and methods which reproduce functionality of NumPy arrays, so you can work with map data in many of the same ways as we've been working with arrays in previous sessions:"
   ],
   "metadata": {},
   "cell_type": "markdown"
  },
  {
   "source": [],
   "metadata": {
    "collapsed": false
   },
   "execution_count": null,
   "outputs": [],
   "cell_type": "code"
  },
  {
   "source": [
    "## Displaying Maps"
   ],
   "metadata": {},
   "cell_type": "markdown"
  },
  {
   "source": [
    "Now let's get back to displaying data. There are two methods for plotting and displaying a `Map`. The first is `peek()`. This method is quick and easy to use, and automatically does a few things to make the plot look nice - it adds a title, sensible axes labels, a colourbar and a coordinate grid."
   ],
   "metadata": {},
   "cell_type": "markdown"
  },
  {
   "source": [],
   "metadata": {
    "collapsed": false,
    "scrolled": false
   },
   "execution_count": null,
   "outputs": [],
   "cell_type": "code"
  },
  {
   "source": [
    "This is useful for quickly inspecting data, but can't really be customised much past this stage, so it isn't very flexible.\n",
    "\n",
    "The other plotting method, `plot()`, produces a very slightly simpler plot by default:"
   ],
   "metadata": {},
   "cell_type": "markdown"
  },
  {
   "source": [],
   "metadata": {
    "collapsed": false
   },
   "execution_count": null,
   "outputs": [],
   "cell_type": "code"
  },
  {
   "source": [
    "But the advantage of using this method is that it provides a plot that can be customised in many of the same ways as a normal line or image plot. This can be done with various functions in `pyplot`, and by passing keyword arguments to the `plot()` function."
   ],
   "metadata": {},
   "cell_type": "markdown"
  },
  {
   "source": [],
   "metadata": {
    "collapsed": false
   },
   "execution_count": null,
   "outputs": [],
   "cell_type": "code"
  },
  {
   "source": [
    "### Adjusting `Map`s"
   ],
   "metadata": {},
   "cell_type": "markdown"
  },
  {
   "source": [
    "#### Rotation"
   ],
   "metadata": {},
   "cell_type": "markdown"
  },
  {
   "source": [
    "Quite often you may want to adjust the rotation of a `Map`, either to account for some known effect or to align multiple images. `Map`s have a dedicated method for this task, `Map.rotate()`, which can take an angle as argument and returns a new `Map`, rotated by that amount anti-clockwise. In the new `Map`, all the relevant header information is updated accordingly, so you never need to adjust it yourself when manipulating your data. In particular, the header stores the rotation of the data, and this is accessible through the `Map.rotation_matrix` attribute."
   ],
   "metadata": {},
   "cell_type": "markdown"
  },
  {
   "source": [],
   "metadata": {
    "collapsed": false
   },
   "execution_count": null,
   "outputs": [],
   "cell_type": "code"
  },
  {
   "source": [
    "If we plot the initial and rotated `Map`s, we can also see that the coordinate information has been updated."
   ],
   "metadata": {},
   "cell_type": "markdown"
  },
  {
   "source": [
    "# Draw lon-lat grids on plots to highlight the rotation\n"
   ],
   "metadata": {
    "collapsed": false
   },
   "execution_count": null,
   "outputs": [],
   "cell_type": "code"
  },
  {
   "source": [
    "You may also notice here that the `Map` has expanded so that no part of the original array is lost by the rotation.\n",
    "\n",
    "If you decide you want to reverse the rotation, the default behaviour of `Map.rotate()` makes this even easier. When no argument is provided, `rotate()` performs whatever rotation is required to reverse the current rotation of the `Map`."
   ],
   "metadata": {},
   "cell_type": "markdown"
  },
  {
   "source": [],
   "metadata": {
    "collapsed": false
   },
   "execution_count": null,
   "outputs": [],
   "cell_type": "code"
  },
  {
   "source": [
    "This is also very helpful when you are provided with data which is already rotated, since the header should describe that rotation:"
   ],
   "metadata": {},
   "cell_type": "markdown"
  },
  {
   "source": [
    "# Import data from during an AIA roll maneouver\n"
   ],
   "metadata": {
    "collapsed": false
   },
   "execution_count": null,
   "outputs": [],
   "cell_type": "code"
  },
  {
   "source": [],
   "metadata": {
    "collapsed": false
   },
   "execution_count": null,
   "outputs": [],
   "cell_type": "code"
  },
  {
   "source": [
    "### Submaps and coordinate ranges"
   ],
   "metadata": {},
   "cell_type": "markdown"
  },
  {
   "source": [
    "`Map`s have the very useful functionality of being croppable. Using the `submap` method, you can crop a `Map` to specified coordinates, creating a new map with an updated header, just like when we used `rotate()`."
   ],
   "metadata": {},
   "cell_type": "markdown"
  },
  {
   "source": [
    "# Check some information about the Map first.\n",
    "# Crop the Map and store the new one in another variable.\n",
    "# Check the same information again\n",
    "# Have a look\n"
   ],
   "metadata": {
    "collapsed": false
   },
   "execution_count": null,
   "outputs": [],
   "cell_type": "code"
  },
  {
   "source": [
    "First, notice that the `Map` is aware of its own size in physical units: the `xrange` attribute tells us the extent of the data in the x direction and there is a similar `yrange` attribute. You should also notice that the range of the submap is (almost) what we specified when we created it. It doesn't _quite_ match up because the array has to be cropped between pixels and the physical coordinates we specify may not exactly achieve this. But it's very close."
   ],
   "metadata": {},
   "cell_type": "markdown"
  },
  {
   "source": [
    "When we rotated a map earlier, the array was expanded to avoid parts of it being cropped unintentionally. This can be annoying, so if you're absolutely sure you don't mind losing that information, you might want to reset the extent of the image to a more sensible value by combining `submap()` and `xrange`/`yrange`."
   ],
   "metadata": {},
   "cell_type": "markdown"
  },
  {
   "source": [],
   "metadata": {
    "collapsed": false
   },
   "execution_count": null,
   "outputs": [],
   "cell_type": "code"
  },
  {
   "source": [
    "### Overplotting WCS axes"
   ],
   "metadata": {},
   "cell_type": "markdown"
  },
  {
   "source": [
    "If we plot the rotated map again, we can have a closer look at coordinate grid."
   ],
   "metadata": {},
   "cell_type": "markdown"
  },
  {
   "source": [
    "# Plot the rotated map on our axes\n",
    "# Make the coordinate grid more visible\n"
   ],
   "metadata": {
    "collapsed": false
   },
   "execution_count": null,
   "outputs": [],
   "cell_type": "code"
  },
  {
   "source": [
    "This grid is in image coordinates, which is great but doesn't tell us anything about the rotation of the image. For that, we need to use the WCS (World Coordinate System) information included in the `Map`.\n",
    "\n",
    "When we create a subplot, we can specify a projection. Normally this will be something like cartesian or polar, but for solar data we can specify a coordinate system. We can create one, but `Map` includes this information for us, so we can pass it straight into `subplot()`."
   ],
   "metadata": {},
   "cell_type": "markdown"
  },
  {
   "source": [],
   "metadata": {
    "collapsed": false
   },
   "execution_count": null,
   "outputs": [],
   "cell_type": "code"
  },
  {
   "source": [
    "Now we can see that we have a different grid overlaid on the plot - now it's aligned withe the rotation."
   ],
   "metadata": {},
   "cell_type": "markdown"
  },
  {
   "source": [
    "# Plotting is by default in pixels.\n",
    "# Plotting in \"world\" coordinates is always in degrees.\n"
   ],
   "metadata": {
    "collapsed": false
   },
   "execution_count": null,
   "outputs": [],
   "cell_type": "code"
  },
  {
   "source": [
    "## Challenge: Putting it all together"
   ],
   "metadata": {},
   "cell_type": "markdown"
  },
  {
   "source": [
    "1. Plot the sample AIA 17.1nm image, next to a submap of some interesting feature from that image. Give both plots a colourbar and change the titles. \n",
    "1. Plot a black cross at the same point on both images.\n",
    "1. Plot a rectangle on the full `Map` which corresponds to the edges of the submap.\n",
    "\n",
    "**Hints:**\n",
    "- You can specify an axes to draw on by passing it into `plot()`, like this: `mymap.plot(axes=ax)`\n",
    "- `Map` has a `draw_rectangle()` method.\n",
    "- `matplotlib` can be fussy about astropy units - you'll often have to use just the value of a Quantity in order for the plotting functions to work properly."
   ],
   "metadata": {},
   "cell_type": "markdown"
  },
  {
   "source": [
    "# Draw the rectangle\n"
   ],
   "metadata": {
    "collapsed": false
   },
   "execution_count": null,
   "outputs": [],
   "cell_type": "code"
  }
 ],
 "metadata": {
  "language_info": {
   "file_extension": ".py",
   "codemirror_mode": {
    "version": 3,
    "name": "ipython"
   },
   "pygments_lexer": "ipython3",
   "name": "python",
   "nbconvert_exporter": "python",
   "version": "3.5.2",
   "mimetype": "text/x-python"
  },
  "kernelspec": {
   "name": "python3",
   "language": "python",
   "display_name": "Python 3"
  }
 },
 "nbformat_minor": 0,
 "nbformat": 4
}